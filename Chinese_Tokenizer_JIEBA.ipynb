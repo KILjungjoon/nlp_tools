{
  "nbformat": 4,
  "nbformat_minor": 0,
  "metadata": {
    "colab": {
      "name": "Chinese Tokenizer JIEBA",
      "provenance": [],
      "collapsed_sections": []
    },
    "kernelspec": {
      "name": "python3",
      "display_name": "Python 3"
    }
  },
  "cells": [
    {
      "cell_type": "markdown",
      "metadata": {
        "id": "GuctQImAmtTI"
      },
      "source": [
        "# 结巴 from https://github.com/fxsjy/jieba"
      ]
    },
    {
      "cell_type": "code",
      "metadata": {
        "id": "8wjY7WAnmhNa"
      },
      "source": [
        "import jieba\r\n",
        "import jieba.posseg as pseg"
      ],
      "execution_count": 1,
      "outputs": []
    },
    {
      "cell_type": "code",
      "metadata": {
        "id": "Fd_O7qZ1mzJY"
      },
      "source": [
        "text_zh=\"我来到北京清华大学\"\r\n",
        "text_tw=\"我是從韓國首爾來的韓文老師\""
      ],
      "execution_count": 6,
      "outputs": []
    },
    {
      "cell_type": "code",
      "metadata": {
        "colab": {
          "base_uri": "https://localhost:8080/"
        },
        "id": "XPQfFkmmm1CE",
        "outputId": "a006d8ee-58c0-417c-fb34-9214db04a325"
      },
      "source": [
        "# Chinese simple\r\n",
        "seg_list = jieba.cut(text_zh, cut_all=True)\r\n",
        "print(\"Full Mode: \" + \"/ \".join(seg_list))  # 全模式"
      ],
      "execution_count": 7,
      "outputs": [
        {
          "output_type": "stream",
          "text": [
            "Full Mode: 我/ 来到/ 北京/ 清华/ 清华大学/ 华大/ 大学\n"
          ],
          "name": "stdout"
        }
      ]
    },
    {
      "cell_type": "code",
      "metadata": {
        "colab": {
          "base_uri": "https://localhost:8080/"
        },
        "id": "26C680abnJ1t",
        "outputId": "5f722dca-4b13-45d0-cc5a-5ce55b559bf6"
      },
      "source": [
        "seg_list = jieba.cut(text_tw, cut_all=True)\r\n",
        "print(\"Full Mode: \" + \"/ \".join(seg_list))  # 全模式"
      ],
      "execution_count": 8,
      "outputs": [
        {
          "output_type": "stream",
          "text": [
            "Full Mode: 我/ 是/ 從/ 韓/ 國/ 首/ 爾/ 來/ 的/ 韓/ 文/ 老/ 師\n"
          ],
          "name": "stdout"
        }
      ]
    },
    {
      "cell_type": "code",
      "metadata": {
        "colab": {
          "base_uri": "https://localhost:8080/"
        },
        "id": "ogcvZK5IoZ20",
        "outputId": "a6c34e54-7cca-4706-f54e-9ddc5b8c4d52"
      },
      "source": [
        "seg_list = jieba.cut(\"我是从韩国首尔来的韩文老师\", cut_all=True)\r\n",
        "print(\"Full Mode: \" + \"/ \".join(seg_list))  # 全模式"
      ],
      "execution_count": 9,
      "outputs": [
        {
          "output_type": "stream",
          "text": [
            "Full Mode: 我/ 是从/ 韩国/ 首尔/ 来/ 的/ 韩文/ 老师\n"
          ],
          "name": "stdout"
        }
      ]
    },
    {
      "cell_type": "code",
      "metadata": {
        "colab": {
          "base_uri": "https://localhost:8080/"
        },
        "id": "5cvaSkeAo1PY",
        "outputId": "550c6152-f173-4698-a1a2-6b0335ee49e1"
      },
      "source": [
        "seg_list = jieba.cut(text_zh, cut_all=False)\r\n",
        "print(\"Default Mode: \" + \"/ \".join(seg_list))  # 默认模式"
      ],
      "execution_count": 10,
      "outputs": [
        {
          "output_type": "stream",
          "text": [
            "Default Mode: 我/ 来到/ 北京/ 清华大学\n"
          ],
          "name": "stdout"
        }
      ]
    },
    {
      "cell_type": "code",
      "metadata": {
        "colab": {
          "base_uri": "https://localhost:8080/"
        },
        "id": "1VWb7ZlbpKA2",
        "outputId": "49be7f49-2fff-4939-d094-27c2e34af381"
      },
      "source": [
        "seg_list = jieba.cut(text_tw, cut_all=False)\r\n",
        "print(\"Default Mode: \" + \"/ \".join(seg_list))  # 默认模式"
      ],
      "execution_count": 11,
      "outputs": [
        {
          "output_type": "stream",
          "text": [
            "Default Mode: 我/ 是/ 從/ 韓國/ 首爾來/ 的/ 韓文/ 老師\n"
          ],
          "name": "stdout"
        }
      ]
    },
    {
      "cell_type": "code",
      "metadata": {
        "colab": {
          "base_uri": "https://localhost:8080/"
        },
        "id": "5R5oxoiapUpy",
        "outputId": "302fe76a-f01f-4f09-c862-cc8ba65d01cf"
      },
      "source": [
        "seg_list = jieba.cut(\"我是从韩国首尔来的韩文老师\", cut_all=False)\r\n",
        "print(\"Default Mode: \" + \"/ \".join(seg_list))  # 默认模式"
      ],
      "execution_count": 12,
      "outputs": [
        {
          "output_type": "stream",
          "text": [
            "Default Mode: 我/ 是从/ 韩国/ 首尔/ 来/ 的/ 韩文/ 老师\n"
          ],
          "name": "stdout"
        }
      ]
    },
    {
      "cell_type": "code",
      "metadata": {
        "colab": {
          "base_uri": "https://localhost:8080/"
        },
        "id": "ybrUdJNcpn1K",
        "outputId": "19c92cf1-07b3-4096-ff26-fa04d8f46c96"
      },
      "source": [
        "words = pseg.cut(text_zh) #jieba默认模式\r\n",
        "jieba.enable_paddle() #启动paddle模式。 0.40版之后开始支持，早期版本不支持\r\n",
        "words = pseg.cut(text_zh,use_paddle=True) #paddle模式\r\n",
        "for word, flag in words:\r\n",
        "    print('%s %s' % (word, flag))"
      ],
      "execution_count": 15,
      "outputs": [
        {
          "output_type": "stream",
          "text": [
            "Paddle enabled successfully......\n"
          ],
          "name": "stderr"
        },
        {
          "output_type": "stream",
          "text": [
            "我 r\n",
            "来到 v\n",
            "北京清华大学 ORG\n"
          ],
          "name": "stdout"
        }
      ]
    },
    {
      "cell_type": "code",
      "metadata": {
        "colab": {
          "base_uri": "https://localhost:8080/"
        },
        "id": "Bg04tudPqK8N",
        "outputId": "57698a02-2dcd-43e1-ce7c-65c2fb7c4691"
      },
      "source": [
        "words = pseg.cut(text_tw,use_paddle=True) #paddle模式\r\n",
        "for word, flag in words:\r\n",
        "    print('%s %s' % (word, flag))"
      ],
      "execution_count": 16,
      "outputs": [
        {
          "output_type": "stream",
          "text": [
            "我 r\n",
            "是 v\n",
            "從韓國首爾來 nz\n",
            "的 u\n",
            "韓文老師 nr\n"
          ],
          "name": "stdout"
        }
      ]
    },
    {
      "cell_type": "code",
      "metadata": {
        "colab": {
          "base_uri": "https://localhost:8080/"
        },
        "id": "T2Kd6X2aqT4a",
        "outputId": "3924dba2-b2bb-429a-985a-08d8a6d4a266"
      },
      "source": [
        "text=\"我是从韩国首尔来的韩文老师\"\r\n",
        "words = pseg.cut(text,use_paddle=True) #paddle模式\r\n",
        "for word, flag in words:\r\n",
        "    print('%s %s' % (word, flag))"
      ],
      "execution_count": 17,
      "outputs": [
        {
          "output_type": "stream",
          "text": [
            "我 r\n",
            "是 v\n",
            "从 p\n",
            "韩国 LOC\n",
            "首尔 v\n",
            "来 v\n",
            "的 u\n",
            "韩文 nz\n",
            "老师 n\n"
          ],
          "name": "stdout"
        }
      ]
    },
    {
      "cell_type": "code",
      "metadata": {
        "colab": {
          "base_uri": "https://localhost:8080/"
        },
        "id": "NzS9zcrTrLJB",
        "outputId": "2681bb8b-5174-48ce-9fcf-06383ce11b26"
      },
      "source": [
        "text = \"于吉大招叫什么。于吉怒气技叫什么\"\r\n",
        "words = pseg.cut(text)\r\n",
        "for w in words:\r\n",
        "    print('%s %s' % (w.word, w.flag))"
      ],
      "execution_count": 18,
      "outputs": [
        {
          "output_type": "stream",
          "text": [
            "于 p\n",
            "吉大招 nr\n",
            "叫 v\n",
            "什么 r\n",
            "。 x\n",
            "于吉 nr\n",
            "怒气 n\n",
            "技叫 n\n",
            "什么 r\n"
          ],
          "name": "stdout"
        }
      ]
    }
  ]
}