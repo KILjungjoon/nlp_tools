{
  "nbformat": 4,
  "nbformat_minor": 0,
  "metadata": {
    "colab": {
      "name": "KoNLPy_mecab.ipynb의 사본",
      "provenance": [],
      "collapsed_sections": [],
      "toc_visible": true
    },
    "kernelspec": {
      "name": "python3",
      "display_name": "Python 3"
    },
    "language_info": {
      "name": "python"
    }
  },
  "cells": [
    {
      "cell_type": "markdown",
      "metadata": {
        "id": "afCIfBDsPIlJ"
      },
      "source": [
        "# KoNLPy (Korean Morph Parser Library)\n",
        "[KoNLPy : link -> here](https://konlpy.org/en/latest/)"
      ]
    },
    {
      "cell_type": "markdown",
      "metadata": {
        "id": "mtGHqQQ3P0UE"
      },
      "source": [
        "## 1 . Mecab으로 형태소 분석하기"
      ]
    },
    {
      "cell_type": "markdown",
      "metadata": {
        "id": "jtDYKpGQNBy0"
      },
      "source": [
        "1) Installing Mecab (설치하기)\n",
        "\n"
      ]
    },
    {
      "cell_type": "markdown",
      "metadata": {
        "id": "a-s2LImCfSqb"
      },
      "source": [
        "> Let's test Macab by installing it with a simple Linux version code.\n"
      ]
    },
    {
      "cell_type": "code",
      "metadata": {
        "id": "lE2e9E3CKoWc"
      },
      "source": [
        "# 실행 버튼을 클릭하면 install 시작.\n",
        "!sudo apt-get install curl\n",
        "!bash <(curl -s https://raw.githubusercontent.com/konlpy/konlpy/master/scripts/mecab.sh)"
      ],
      "execution_count": null,
      "outputs": []
    },
    {
      "cell_type": "markdown",
      "metadata": {
        "id": "F2CrzZ_5NOdy"
      },
      "source": [
        "### 2) Loading tests for test (테스트 문장 불러오기)"
      ]
    },
    {
      "cell_type": "code",
      "metadata": {
        "id": "1-K8G_8GCDVA"
      },
      "source": [
        "# \"  \"안에 다른 내용을 넣어서 테스트해 보세요.\n",
        "text1=\"아버지가방에들어가셨다\"\n",
        "text2=\"차에서잠깐내려서차한잔하려던차에TV에서남북일차정상회담생중계가보였다\"\n",
        "text3=\"아까 먹은 배가 문제가 있었는지 항구에서 배가 출항하자마다 배가 평소보다 배 이상 더 아파서\""
      ],
      "execution_count": null,
      "outputs": []
    },
    {
      "cell_type": "markdown",
      "metadata": {
        "id": "FUdo8U4DNdWn"
      },
      "source": [
        "### 3) Running a Mecab (형태소 분석 실행하기)"
      ]
    },
    {
      "cell_type": "code",
      "metadata": {
        "id": "N-q090ZACISI"
      },
      "source": [
        "# 테스트하고 싶은 텍스트번호를 바꿔 주세요.\n",
        "import MeCab\n",
        "m = MeCab.Tagger()\n",
        "data=m.parse(text3)\n",
        "data=data.split()\n",
        "data"
      ],
      "execution_count": null,
      "outputs": []
    },
    {
      "cell_type": "markdown",
      "metadata": {
        "id": "p0qMk23QNlA6"
      },
      "source": [
        "### 4) Tokenizing by making a white space (형태소 단위 띄어쓰기)"
      ]
    },
    {
      "cell_type": "code",
      "metadata": {
        "id": "AF9rrYXXCLAh"
      },
      "source": [
        "# -O wakati : 형태소 기준으로 띄어쓰기만 확인.\n",
        "!echo \"차에서잠깐내려서차한잔하려던차에TV에서남북일차정상회담생중계가보였다\" | mecab -O wakati"
      ],
      "execution_count": null,
      "outputs": []
    }
  ]
}