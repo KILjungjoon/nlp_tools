{
  "nbformat": 4,
  "nbformat_minor": 0,
  "metadata": {
    "colab": {
      "name": "KoNLPy_Okt.ipynb",
      "provenance": [],
      "collapsed_sections": [],
      "toc_visible": true
    },
    "kernelspec": {
      "name": "python3",
      "display_name": "Python 3"
    }
  },
  "cells": [
    {
      "cell_type": "markdown",
      "metadata": {
        "id": "afCIfBDsPIlJ"
      },
      "source": [
        "# KoNLPy (Korean Morph Parser Library)\n",
        "[KoNLPy : link -> here](https://konlpy.org/en/latest/)"
      ]
    },
    {
      "cell_type": "markdown",
      "metadata": {
        "id": "mtGHqQQ3P0UE"
      },
      "source": [
        "## 2 . Okt로 형태소 분석하기"
      ]
    },
    {
      "cell_type": "markdown",
      "metadata": {
        "id": "gQ2dNJvcbSSs"
      },
      "source": [
        "### 1) KoNLPy 설치하기"
      ]
    },
    {
      "cell_type": "code",
      "metadata": {
        "id": "p8eQy-6uC7w1",
        "colab": {
          "base_uri": "https://localhost:8080/"
        },
        "outputId": "6d260ed4-9c00-44ae-b228-379d1ed04db2"
      },
      "source": [
        "pip install konlpy # KoNLPy 인스톨"
      ],
      "execution_count": null,
      "outputs": [
        {
          "output_type": "stream",
          "text": [
            "Collecting konlpy\n",
            "\u001b[?25l  Downloading https://files.pythonhosted.org/packages/85/0e/f385566fec837c0b83f216b2da65db9997b35dd675e107752005b7d392b1/konlpy-0.5.2-py2.py3-none-any.whl (19.4MB)\n",
            "\u001b[K     |████████████████████████████████| 19.4MB 1.2MB/s \n",
            "\u001b[?25hCollecting JPype1>=0.7.0\n",
            "\u001b[?25l  Downloading https://files.pythonhosted.org/packages/cd/a5/9781e2ef4ca92d09912c4794642c1653aea7607f473e156cf4d423a881a1/JPype1-1.2.1-cp37-cp37m-manylinux2010_x86_64.whl (457kB)\n",
            "\u001b[K     |████████████████████████████████| 460kB 31.8MB/s \n",
            "\u001b[?25hCollecting colorama\n",
            "  Downloading https://files.pythonhosted.org/packages/44/98/5b86278fbbf250d239ae0ecb724f8572af1c91f4a11edf4d36a206189440/colorama-0.4.4-py2.py3-none-any.whl\n",
            "Requirement already satisfied: tweepy>=3.7.0 in /usr/local/lib/python3.7/dist-packages (from konlpy) (3.10.0)\n",
            "Requirement already satisfied: numpy>=1.6 in /usr/local/lib/python3.7/dist-packages (from konlpy) (1.19.5)\n",
            "Collecting beautifulsoup4==4.6.0\n",
            "\u001b[?25l  Downloading https://files.pythonhosted.org/packages/9e/d4/10f46e5cfac773e22707237bfcd51bbffeaf0a576b0a847ec7ab15bd7ace/beautifulsoup4-4.6.0-py3-none-any.whl (86kB)\n",
            "\u001b[K     |████████████████████████████████| 92kB 7.7MB/s \n",
            "\u001b[?25hRequirement already satisfied: lxml>=4.1.0 in /usr/local/lib/python3.7/dist-packages (from konlpy) (4.2.6)\n",
            "Requirement already satisfied: typing-extensions; python_version < \"3.8\" in /usr/local/lib/python3.7/dist-packages (from JPype1>=0.7.0->konlpy) (3.7.4.3)\n",
            "Requirement already satisfied: six>=1.10.0 in /usr/local/lib/python3.7/dist-packages (from tweepy>=3.7.0->konlpy) (1.15.0)\n",
            "Requirement already satisfied: requests[socks]>=2.11.1 in /usr/local/lib/python3.7/dist-packages (from tweepy>=3.7.0->konlpy) (2.23.0)\n",
            "Requirement already satisfied: requests-oauthlib>=0.7.0 in /usr/local/lib/python3.7/dist-packages (from tweepy>=3.7.0->konlpy) (1.3.0)\n",
            "Requirement already satisfied: urllib3!=1.25.0,!=1.25.1,<1.26,>=1.21.1 in /usr/local/lib/python3.7/dist-packages (from requests[socks]>=2.11.1->tweepy>=3.7.0->konlpy) (1.24.3)\n",
            "Requirement already satisfied: idna<3,>=2.5 in /usr/local/lib/python3.7/dist-packages (from requests[socks]>=2.11.1->tweepy>=3.7.0->konlpy) (2.10)\n",
            "Requirement already satisfied: chardet<4,>=3.0.2 in /usr/local/lib/python3.7/dist-packages (from requests[socks]>=2.11.1->tweepy>=3.7.0->konlpy) (3.0.4)\n",
            "Requirement already satisfied: certifi>=2017.4.17 in /usr/local/lib/python3.7/dist-packages (from requests[socks]>=2.11.1->tweepy>=3.7.0->konlpy) (2020.12.5)\n",
            "Requirement already satisfied: PySocks!=1.5.7,>=1.5.6; extra == \"socks\" in /usr/local/lib/python3.7/dist-packages (from requests[socks]>=2.11.1->tweepy>=3.7.0->konlpy) (1.7.1)\n",
            "Requirement already satisfied: oauthlib>=3.0.0 in /usr/local/lib/python3.7/dist-packages (from requests-oauthlib>=0.7.0->tweepy>=3.7.0->konlpy) (3.1.0)\n",
            "Installing collected packages: JPype1, colorama, beautifulsoup4, konlpy\n",
            "  Found existing installation: beautifulsoup4 4.6.3\n",
            "    Uninstalling beautifulsoup4-4.6.3:\n",
            "      Successfully uninstalled beautifulsoup4-4.6.3\n",
            "Successfully installed JPype1-1.2.1 beautifulsoup4-4.6.0 colorama-0.4.4 konlpy-0.5.2\n"
          ],
          "name": "stdout"
        }
      ]
    },
    {
      "cell_type": "markdown",
      "metadata": {
        "id": "zukad8o9DX71"
      },
      "source": [
        "KoNLPy의 형태소 분석기 : Mecab, Okt, Kkma, Hannanum, Komoran \n",
        "> pos : 품사 부착, \n",
        "> nouns : 명사 추출, \n",
        "> morphs : 형태소 추출"
      ]
    },
    {
      "cell_type": "markdown",
      "metadata": {
        "id": "wfY0vyrQ8zLx"
      },
      "source": [
        "### 2) 테스트 텍스트 읽기"
      ]
    },
    {
      "cell_type": "code",
      "metadata": {
        "id": "1-K8G_8GCDVA"
      },
      "source": [
        "# \"  \"안에 다른 내용을 넣어서 테스트해 보세요.\n",
        "text1=\"아버지가방에들어가셨다\"\n",
        "text2=\"차에서잠깐내려서차한잔하려던차에TV에서남북일차정상회담생중계가보였다\"\n",
        "text3=\"그녀는 너무 예뻤어. 그대 내게 오지 말아요\""
      ],
      "execution_count": null,
      "outputs": []
    },
    {
      "cell_type": "markdown",
      "metadata": {
        "id": "fC1_v0AtcU7D"
      },
      "source": [
        "### 3) Okt 불러오기"
      ]
    },
    {
      "cell_type": "code",
      "metadata": {
        "id": "8bzBHobZDJle"
      },
      "source": [
        "from konlpy.tag import Okt   # Okt import\n",
        "okt=Okt()                    # Okt()를 변수 okt에 담기"
      ],
      "execution_count": null,
      "outputs": []
    },
    {
      "cell_type": "markdown",
      "metadata": {
        "id": "_W2DbS6LUDd0"
      },
      "source": [
        "### 4) pos 실행하기(품사 부착)\n",
        "기본적으로 [('단어','품사'),…]의 형식으로 출력된다.\n",
        "* norm=True : 정규화, 즉 줄임말이나 구어체 표현의 표준어 기본형을 반환 ➜ 정확도 떨어짐.\n",
        "* stem=True : 용언 활용형의 경우 기본형을 반환  ➜ 어미가 사라짐.\n",
        "* join=True : 출력 형식을 ['단어/품사',…]로 변환"
      ]
    },
    {
      "cell_type": "markdown",
      "metadata": {
        "id": "zFPKIprtZlna"
      },
      "source": [
        "norm=True, stem=True"
      ]
    },
    {
      "cell_type": "code",
      "metadata": {
        "colab": {
          "base_uri": "https://localhost:8080/"
        },
        "id": "cf0EpAZJ-lhX",
        "outputId": "b60f64fb-93f6-454c-9125-820e9afa4e74"
      },
      "source": [
        "# 품사 부착해서 보여주기\n",
        "pos1=okt.pos(text1)\n",
        "pos2=okt.pos(text2)\n",
        "pos3=okt.pos(text3)\n",
        "print(pos1)\n",
        "print(pos2)\n",
        "print(pos3)"
      ],
      "execution_count": null,
      "outputs": [
        {
          "output_type": "stream",
          "text": [
            "[('아버지', 'Noun'), ('가방', 'Noun'), ('에', 'Josa'), ('들어가셨다', 'Verb')]\n",
            "[('차', 'Noun'), ('에서', 'Josa'), ('잠깐', 'Noun'), ('내려서', 'Verb'), ('차', 'Noun'), ('한잔', 'Noun'), ('하려던', 'Verb'), ('차', 'Noun'), ('에', 'Josa'), ('TV', 'Alpha'), ('에서', 'Josa'), ('남북', 'Noun'), ('일차', 'Noun'), ('정상회담', 'Noun'), ('생중계', 'Noun'), ('가', 'Josa'), ('보였다', 'Verb')]\n",
            "[('그녀', 'Noun'), ('는', 'Josa'), ('너무', 'Adverb'), ('예뻤어', 'Adjective'), ('.', 'Punctuation'), ('그대', 'Noun'), ('내게', 'Verb'), ('오지', 'Noun'), ('말아요', 'Verb')]\n"
          ],
          "name": "stdout"
        }
      ]
    },
    {
      "cell_type": "code",
      "metadata": {
        "colab": {
          "base_uri": "https://localhost:8080/"
        },
        "id": "wA0U7mQ3aa2I",
        "outputId": "9accf20f-5375-4169-ef81-2c8ddf0979ad"
      },
      "source": [
        "# 품사 부착+(norm=True, stem=True)해서 보여주기\n",
        "pos1=okt.pos(text1,norm=True, stem=True)\n",
        "pos2=okt.pos(text2,norm=True, stem=True)\n",
        "pos3=okt.pos(text3,norm=True, stem=True)\n",
        "print(pos1)\n",
        "print(pos2)\n",
        "print(pos3)"
      ],
      "execution_count": null,
      "outputs": [
        {
          "output_type": "stream",
          "text": [
            "[('아버지', 'Noun'), ('가방', 'Noun'), ('에', 'Josa'), ('들어가다', 'Verb')]\n",
            "[('차', 'Noun'), ('에서', 'Josa'), ('잠깐', 'Noun'), ('내다', 'Verb'), ('차', 'Noun'), ('한잔', 'Noun'), ('하다', 'Verb'), ('차', 'Noun'), ('에', 'Josa'), ('TV', 'Alpha'), ('에서', 'Josa'), ('남북', 'Noun'), ('일차', 'Noun'), ('정상회담', 'Noun'), ('생중계', 'Noun'), ('가', 'Josa'), ('보이다', 'Verb')]\n",
            "[('그녀', 'Noun'), ('는', 'Josa'), ('너무', 'Adverb'), ('예쁘다', 'Adjective'), ('.', 'Punctuation'), ('그대', 'Noun'), ('내다', 'Verb'), ('오지', 'Noun'), ('말다', 'Verb')]\n"
          ],
          "name": "stdout"
        }
      ]
    },
    {
      "cell_type": "code",
      "metadata": {
        "colab": {
          "base_uri": "https://localhost:8080/"
        },
        "id": "M4MNxJEpAwg8",
        "outputId": "bc725dad-b915-4d47-b8a9-a5f992633d4c"
      },
      "source": [
        "# norm=True 의 실례, 어미 처리를 확인하려면 stem=False 또는 지정하지 않아야 함\n",
        "print(okt.pos(\"좋아 보이네욬ㅋㅋ\",norm=True, stem=True))\n",
        "print(okt.pos(\"좋아 보이네욬ㅋㅋ\",norm=True, stem=False))\n",
        "print(okt.pos(\"좋아 보이네욬ㅋㅋ\",norm=True))\n",
        "print(okt.pos(\"좋아 보이네욬ㅋㅋ\",norm=True, stem=False, join=True))"
      ],
      "execution_count": null,
      "outputs": [
        {
          "output_type": "stream",
          "text": [
            "[('좋다', 'Adjective'), ('보이다', 'Verb'), ('ㅋㅋ', 'KoreanParticle')]\n",
            "[('좋아', 'Adjective'), ('보이네요', 'Verb'), ('ㅋㅋ', 'KoreanParticle')]\n",
            "[('좋아', 'Adjective'), ('보이네요', 'Verb'), ('ㅋㅋ', 'KoreanParticle')]\n",
            "['좋아/Adjective', '보이네요/Verb', 'ㅋㅋ/KoreanParticle']\n"
          ],
          "name": "stdout"
        }
      ]
    },
    {
      "cell_type": "code",
      "metadata": {
        "colab": {
          "base_uri": "https://localhost:8080/"
        },
        "id": "_dkoKT2IPpgN",
        "outputId": "a66744e4-5ac9-4844-831f-a4151a64472c"
      },
      "source": [
        "text=\"남들도 모르게 서성이다 울었지. 지나온 일들이 가슴에 사무쳐. 하얀 눈 하늘 높이 자꾸 올라가네\"\n",
        "# print(okt.pos(text))\n",
        "# print(okt.morphs(text))\n",
        "\n",
        "print(okt.pos(text, stem=True))\n",
        "print(okt.morphs(text, stem=True))"
      ],
      "execution_count": null,
      "outputs": [
        {
          "output_type": "stream",
          "text": [
            "[('남', 'Noun'), ('들', 'Suffix'), ('도', 'Josa'), ('모르다', 'Verb'), ('서성', 'Noun'), ('이다', 'Josa'), ('울다', 'Verb'), ('.', 'Punctuation'), ('지나', 'Noun'), ('온', 'Noun'), ('일', 'Noun'), ('들', 'Suffix'), ('이', 'Josa'), ('가슴', 'Noun'), ('에', 'Josa'), ('사무치다', 'Verb'), ('.', 'Punctuation'), ('하얗다', 'Adjective'), ('눈', 'Noun'), ('하늘', 'Noun'), ('높이', 'Noun'), ('자꾸', 'Noun'), ('올라가다', 'Verb')]\n",
            "['남', '들', '도', '모르다', '서성', '이다', '울다', '.', '지나', '온', '일', '들', '이', '가슴', '에', '사무치다', '.', '하얗다', '눈', '하늘', '높이', '자꾸', '올라가다']\n"
          ],
          "name": "stdout"
        }
      ]
    },
    {
      "cell_type": "code",
      "metadata": {
        "colab": {
          "base_uri": "https://localhost:8080/"
        },
        "id": "lrrqXv0Cc0m2",
        "outputId": "ebf3c743-1818-45ea-d897-b9e2399445b4"
      },
      "source": [
        "# 특정 품사만 추출하기\n",
        "text=\"남들도 모르게 서성이다 울었지. 지나온 일들이 가슴에 사무쳐. 하얀 눈 하늘 높이 자꾸 올라가네\"\n",
        "pos_result=okt.pos(text,norm=True, stem=True)\n",
        "filtering_result = [x for x, y in pos_result if y in ['Noun', 'Adjective', 'Verb']] # 명사, 형용사, 동사만 추출\n",
        "print(filtering_result)              "
      ],
      "execution_count": null,
      "outputs": [
        {
          "output_type": "stream",
          "text": [
            "['남', '모르다', '서성', '울다', '지나', '온', '일', '가슴', '사무치다', '하얗다', '눈', '하늘', '높이', '자꾸', '올라가다']\n"
          ],
          "name": "stdout"
        }
      ]
    }
  ]
}