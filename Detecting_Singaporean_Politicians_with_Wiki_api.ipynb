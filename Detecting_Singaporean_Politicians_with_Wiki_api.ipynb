{
  "nbformat": 4,
  "nbformat_minor": 0,
  "metadata": {
    "colab": {
      "provenance": [],
      "collapsed_sections": [],
      "authorship_tag": "ABX9TyM6SoMrErBzwSNNU+xckfrb",
      "include_colab_link": true
    },
    "kernelspec": {
      "name": "python3",
      "display_name": "Python 3"
    },
    "language_info": {
      "name": "python"
    }
  },
  "cells": [
    {
      "cell_type": "markdown",
      "metadata": {
        "id": "view-in-github",
        "colab_type": "text"
      },
      "source": [
        "<a href=\"https://colab.research.google.com/github/KILjungjoon/nlp_tools/blob/main/Detecting_Singaporean_Politicians_with_Wiki_api.ipynb\" target=\"_parent\"><img src=\"https://colab.research.google.com/assets/colab-badge.svg\" alt=\"Open In Colab\"/></a>"
      ]
    },
    {
      "cell_type": "code",
      "execution_count": 1,
      "metadata": {
        "colab": {
          "base_uri": "https://localhost:8080/"
        },
        "id": "RjSjbtHXCnbm",
        "outputId": "b5d97ad1-b9bf-429a-82f8-9242822cc3de"
      },
      "outputs": [
        {
          "output_type": "stream",
          "name": "stdout",
          "text": [
            "Looking in indexes: https://pypi.org/simple, https://us-python.pkg.dev/colab-wheels/public/simple/\n",
            "Collecting wikipedia-api\n",
            "  Downloading Wikipedia-API-0.5.4.tar.gz (18 kB)\n",
            "Requirement already satisfied: requests in /usr/local/lib/python3.7/dist-packages (from wikipedia-api) (2.23.0)\n",
            "Requirement already satisfied: chardet<4,>=3.0.2 in /usr/local/lib/python3.7/dist-packages (from requests->wikipedia-api) (3.0.4)\n",
            "Requirement already satisfied: certifi>=2017.4.17 in /usr/local/lib/python3.7/dist-packages (from requests->wikipedia-api) (2022.9.24)\n",
            "Requirement already satisfied: urllib3!=1.25.0,!=1.25.1,<1.26,>=1.21.1 in /usr/local/lib/python3.7/dist-packages (from requests->wikipedia-api) (1.24.3)\n",
            "Requirement already satisfied: idna<3,>=2.5 in /usr/local/lib/python3.7/dist-packages (from requests->wikipedia-api) (2.10)\n",
            "Building wheels for collected packages: wikipedia-api\n",
            "  Building wheel for wikipedia-api (setup.py) ... \u001b[?25l\u001b[?25hdone\n",
            "  Created wheel for wikipedia-api: filename=Wikipedia_API-0.5.4-py3-none-any.whl size=13477 sha256=e1871851a5e59061b1f2f50990b81550b322955a6ae4258b3a3cd602430dd600\n",
            "  Stored in directory: /root/.cache/pip/wheels/d3/24/56/58ba93cf78be162451144e7a9889603f437976ef1ae7013d04\n",
            "Successfully built wikipedia-api\n",
            "Installing collected packages: wikipedia-api\n",
            "Successfully installed wikipedia-api-0.5.4\n"
          ]
        }
      ],
      "source": [
        "!pip install wikipedia-api"
      ]
    },
    {
      "cell_type": "code",
      "source": [
        "import wikipediaapi\n",
        "wiki=wikipediaapi.Wikipedia('en')"
      ],
      "metadata": {
        "id": "iRsyKdBwC0QN"
      },
      "execution_count": 2,
      "outputs": []
    },
    {
      "cell_type": "code",
      "source": [
        "names=['Raymond Lim Siang Keat','Lee Bee Wah']\n",
        "for name in names :\n",
        "  page_py = wiki.page(name)\n",
        "  print(name)\n",
        "  print(\"Page - Exists: %s\" % page_py.exists())\n",
        "  print(\"Page - Title: %s\" % page_py.title)\n",
        "  print(\"Page - Summary: %s\" % page_py.summary[0:200])"
      ],
      "metadata": {
        "colab": {
          "base_uri": "https://localhost:8080/"
        },
        "id": "fUtbLC6JDA4O",
        "outputId": "a4487acf-fbf9-4bcb-eaad-4bfe7fbbf8e5"
      },
      "execution_count": 6,
      "outputs": [
        {
          "output_type": "stream",
          "name": "stdout",
          "text": [
            "Raymond Lim Siang Keat\n",
            "Page - Exists: True\n",
            "Page - Title: Raymond Lim\n",
            "Page - Summary: Raymond Lim Siang Keat (Chinese: 林双吉; pinyin: Lín Shuāngjí, born 24 June 1959) is a former Singaporean politician. A member of the governing People's Action Party (PAP), Lim has been a Member of Parli\n",
            "Lee Bee Wah\n",
            "Page - Exists: True\n",
            "Page - Title: Lee Bee Wah\n",
            "Page - Summary: Lee Bee Wah (Chinese: 李美花; pinyin: Lǐ Měihuā; born 6 October 1960), also known as Huajie (Chinese: 花姐; pinyin: Huājiě; lit. 'Sister Flower'), is a Malaysian-born Singaporean retired politician and eng\n"
          ]
        }
      ]
    },
    {
      "cell_type": "code",
      "source": [
        "# How to detect s/he is a Singaprean politician\n",
        "wiki = wikipediaapi.Wikipedia(\n",
        "        language='en',\n",
        "        extract_format=wikipediaapi.ExtractFormat.WIKI)\n",
        "\n",
        "names=['Raymond Lim Siang Keat','Lee Bee Wah', 'Joe Baiden', 'Moon Jae-in']\n",
        "keywords=['Singaporean' , 'politician']\n",
        "for name in names :\n",
        "  p_wiki = wiki.page(name)\n",
        "  if 'Singaporean' in p_wiki.text and 'politician' in p_wiki.text:\n",
        "    print('True:',p_wiki.text[0:200])\n",
        "  else :\n",
        "    print('False!')"
      ],
      "metadata": {
        "colab": {
          "base_uri": "https://localhost:8080/"
        },
        "id": "VTS8H8pKEnzi",
        "outputId": "fb89fdd9-24bf-4272-eafc-44737b18ca5e"
      },
      "execution_count": 21,
      "outputs": [
        {
          "output_type": "stream",
          "name": "stdout",
          "text": [
            "True: Raymond Lim Siang Keat (Chinese: 林双吉; pinyin: Lín Shuāngjí, born 24 June 1959) is a former Singaporean politician. A member of the governing People's Action Party (PAP), Lim has been a Member of Parli\n",
            "True: Lee Bee Wah (Chinese: 李美花; pinyin: Lǐ Měihuā; born 6 October 1960), also known as Huajie (Chinese: 花姐; pinyin: Huājiě; lit. 'Sister Flower'), is a Malaysian-born Singaporean retired politician and eng\n",
            "False!\n",
            "False!\n"
          ]
        }
      ]
    }
  ]
}